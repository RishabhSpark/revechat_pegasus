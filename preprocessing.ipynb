{
 "cells": [
  {
   "cell_type": "code",
   "execution_count": 38,
   "metadata": {},
   "outputs": [],
   "source": [
    "import pandas as pd"
   ]
  },
  {
   "cell_type": "code",
   "execution_count": 39,
   "metadata": {},
   "outputs": [],
   "source": [
    "df = pd.read_excel(\"dataset\\sheet1.xlsx\")"
   ]
  },
  {
   "cell_type": "code",
   "execution_count": 40,
   "metadata": {},
   "outputs": [
    {
     "data": {
      "text/plain": [
       "(38617, 23)"
      ]
     },
     "execution_count": 40,
     "metadata": {},
     "output_type": "execute_result"
    }
   ],
   "source": [
    "df.shape"
   ]
  },
  {
   "cell_type": "code",
   "execution_count": 41,
   "metadata": {},
   "outputs": [
    {
     "data": {
      "text/html": [
       "<div>\n",
       "<style scoped>\n",
       "    .dataframe tbody tr th:only-of-type {\n",
       "        vertical-align: middle;\n",
       "    }\n",
       "\n",
       "    .dataframe tbody tr th {\n",
       "        vertical-align: top;\n",
       "    }\n",
       "\n",
       "    .dataframe thead th {\n",
       "        text-align: right;\n",
       "    }\n",
       "</style>\n",
       "<table border=\"1\" class=\"dataframe\">\n",
       "  <thead>\n",
       "    <tr style=\"text-align: right;\">\n",
       "      <th></th>\n",
       "      <th>SL No</th>\n",
       "      <th>Channel Type</th>\n",
       "      <th>Visitor</th>\n",
       "      <th>Visitor Email</th>\n",
       "      <th>Visitor Url</th>\n",
       "      <th>Visitor Contact</th>\n",
       "      <th>Visitor Platform</th>\n",
       "      <th>Visitor City</th>\n",
       "      <th>Visitor Country</th>\n",
       "      <th>Notes</th>\n",
       "      <th>...</th>\n",
       "      <th>Date</th>\n",
       "      <th>Duration</th>\n",
       "      <th>Feedback</th>\n",
       "      <th>Audio Clip</th>\n",
       "      <th>Call Duration</th>\n",
       "      <th>Conversations</th>\n",
       "      <th>Pre chat Custom Fields</th>\n",
       "      <th>Post Chat Custom Fields</th>\n",
       "      <th>Visitor Source</th>\n",
       "      <th>Ended By</th>\n",
       "    </tr>\n",
       "  </thead>\n",
       "  <tbody>\n",
       "    <tr>\n",
       "      <th>0</th>\n",
       "      <td>1</td>\n",
       "      <td>Web</td>\n",
       "      <td>Diptanshu</td>\n",
       "      <td>dipti9451@gmail.com</td>\n",
       "      <td>https://learn.ineuron.ai/?redirectUrl=/&amp;code=0...</td>\n",
       "      <td>+919519708734</td>\n",
       "      <td>Windows 10</td>\n",
       "      <td>Bareilly</td>\n",
       "      <td>India</td>\n",
       "      <td>NaN</td>\n",
       "      <td>...</td>\n",
       "      <td>23-Sep-22 ; 10:59 PM</td>\n",
       "      <td>00:00:06</td>\n",
       "      <td>5</td>\n",
       "      <td>no</td>\n",
       "      <td>00:00:00</td>\n",
       "      <td>Wasim: Hello. How may I help you?\\n</td>\n",
       "      <td>NaN</td>\n",
       "      <td>NaN</td>\n",
       "      <td>learn.ineuron.ai</td>\n",
       "      <td>Visitor</td>\n",
       "    </tr>\n",
       "    <tr>\n",
       "      <th>1</th>\n",
       "      <td>2</td>\n",
       "      <td>Web</td>\n",
       "      <td>Ajay Kumar Bandhey</td>\n",
       "      <td>justchillajay@gmail.com</td>\n",
       "      <td>https://learn.ineuron.ai/</td>\n",
       "      <td>+918839601262</td>\n",
       "      <td>Windows 7</td>\n",
       "      <td>-</td>\n",
       "      <td>-</td>\n",
       "      <td>NaN</td>\n",
       "      <td>...</td>\n",
       "      <td>23-Sep-22 ; 10:58 PM</td>\n",
       "      <td>00:00:42</td>\n",
       "      <td>5</td>\n",
       "      <td>no</td>\n",
       "      <td>00:00:00</td>\n",
       "      <td>Shivananda Sonwane: Hello. How may I help you?...</td>\n",
       "      <td>NaN</td>\n",
       "      <td>NaN</td>\n",
       "      <td>learn.ineuron.ai</td>\n",
       "      <td>Agent</td>\n",
       "    </tr>\n",
       "    <tr>\n",
       "      <th>2</th>\n",
       "      <td>3</td>\n",
       "      <td>Web</td>\n",
       "      <td>Diptanshu</td>\n",
       "      <td>dipti9451@gmail.com</td>\n",
       "      <td>https://learn.ineuron.ai/?redirectUrl=/&amp;code=0...</td>\n",
       "      <td>+919519708734</td>\n",
       "      <td>Windows 10</td>\n",
       "      <td>Bareilly</td>\n",
       "      <td>India</td>\n",
       "      <td>NaN</td>\n",
       "      <td>...</td>\n",
       "      <td>23-Sep-22 ; 10:49 PM</td>\n",
       "      <td>00:09:15</td>\n",
       "      <td>5</td>\n",
       "      <td>no</td>\n",
       "      <td>00:00:00</td>\n",
       "      <td>Suraj S Bilgi: Hello. How may I help you?\\nDip...</td>\n",
       "      <td>NaN</td>\n",
       "      <td>NaN</td>\n",
       "      <td>learn.ineuron.ai</td>\n",
       "      <td>Agent</td>\n",
       "    </tr>\n",
       "    <tr>\n",
       "      <th>3</th>\n",
       "      <td>4</td>\n",
       "      <td>Web</td>\n",
       "      <td>Masroor Khan</td>\n",
       "      <td>masroorkhan140@gmail.com</td>\n",
       "      <td>https://learn.ineuron.ai/</td>\n",
       "      <td>+919390189227</td>\n",
       "      <td>Windows 10</td>\n",
       "      <td>-</td>\n",
       "      <td>-</td>\n",
       "      <td>NaN</td>\n",
       "      <td>...</td>\n",
       "      <td>23-Sep-22 ; 10:49 PM</td>\n",
       "      <td>00:00:06</td>\n",
       "      <td>-</td>\n",
       "      <td>no</td>\n",
       "      <td>00:00:00</td>\n",
       "      <td>Wasim: Hello. How may I help you?\\n</td>\n",
       "      <td>NaN</td>\n",
       "      <td>NaN</td>\n",
       "      <td>learn.ineuron.ai</td>\n",
       "      <td>Visitor</td>\n",
       "    </tr>\n",
       "    <tr>\n",
       "      <th>4</th>\n",
       "      <td>5</td>\n",
       "      <td>Web</td>\n",
       "      <td>Diptanshu</td>\n",
       "      <td>dipti9451@gmail.com</td>\n",
       "      <td>https://learn.ineuron.ai/?redirectUrl=/&amp;code=0...</td>\n",
       "      <td>+919519708734</td>\n",
       "      <td>Windows 10</td>\n",
       "      <td>Bareilly</td>\n",
       "      <td>India</td>\n",
       "      <td>NaN</td>\n",
       "      <td>...</td>\n",
       "      <td>23-Sep-22 ; 10:46 PM</td>\n",
       "      <td>00:03:17</td>\n",
       "      <td>5</td>\n",
       "      <td>no</td>\n",
       "      <td>00:00:00</td>\n",
       "      <td>Shivananda Sonwane: Hello. How may I help you?...</td>\n",
       "      <td>NaN</td>\n",
       "      <td>NaN</td>\n",
       "      <td>learn.ineuron.ai</td>\n",
       "      <td>Visitor</td>\n",
       "    </tr>\n",
       "  </tbody>\n",
       "</table>\n",
       "<p>5 rows × 23 columns</p>\n",
       "</div>"
      ],
      "text/plain": [
       "   SL No Channel Type             Visitor             Visitor Email  \\\n",
       "0      1          Web           Diptanshu       dipti9451@gmail.com   \n",
       "1      2          Web  Ajay Kumar Bandhey   justchillajay@gmail.com   \n",
       "2      3          Web           Diptanshu       dipti9451@gmail.com   \n",
       "3      4          Web        Masroor Khan  masroorkhan140@gmail.com   \n",
       "4      5          Web           Diptanshu       dipti9451@gmail.com   \n",
       "\n",
       "                                         Visitor Url Visitor Contact  \\\n",
       "0  https://learn.ineuron.ai/?redirectUrl=/&code=0...   +919519708734   \n",
       "1                          https://learn.ineuron.ai/   +918839601262   \n",
       "2  https://learn.ineuron.ai/?redirectUrl=/&code=0...   +919519708734   \n",
       "3                          https://learn.ineuron.ai/   +919390189227   \n",
       "4  https://learn.ineuron.ai/?redirectUrl=/&code=0...   +919519708734   \n",
       "\n",
       "  Visitor Platform Visitor City Visitor Country Notes  ...  \\\n",
       "0       Windows 10     Bareilly           India   NaN  ...   \n",
       "1        Windows 7            -               -   NaN  ...   \n",
       "2       Windows 10     Bareilly           India   NaN  ...   \n",
       "3       Windows 10            -               -   NaN  ...   \n",
       "4       Windows 10     Bareilly           India   NaN  ...   \n",
       "\n",
       "                   Date  Duration Feedback Audio Clip Call Duration  \\\n",
       "0  23-Sep-22 ; 10:59 PM  00:00:06        5         no      00:00:00   \n",
       "1  23-Sep-22 ; 10:58 PM  00:00:42        5         no      00:00:00   \n",
       "2  23-Sep-22 ; 10:49 PM  00:09:15        5         no      00:00:00   \n",
       "3  23-Sep-22 ; 10:49 PM  00:00:06        -         no      00:00:00   \n",
       "4  23-Sep-22 ; 10:46 PM  00:03:17        5         no      00:00:00   \n",
       "\n",
       "                                       Conversations Pre chat Custom Fields  \\\n",
       "0                Wasim: Hello. How may I help you?\\n                    NaN   \n",
       "1  Shivananda Sonwane: Hello. How may I help you?...                    NaN   \n",
       "2  Suraj S Bilgi: Hello. How may I help you?\\nDip...                    NaN   \n",
       "3                Wasim: Hello. How may I help you?\\n                    NaN   \n",
       "4  Shivananda Sonwane: Hello. How may I help you?...                    NaN   \n",
       "\n",
       "  Post Chat Custom Fields    Visitor Source  Ended By  \n",
       "0                     NaN  learn.ineuron.ai   Visitor  \n",
       "1                     NaN  learn.ineuron.ai     Agent  \n",
       "2                     NaN  learn.ineuron.ai     Agent  \n",
       "3                     NaN  learn.ineuron.ai   Visitor  \n",
       "4                     NaN  learn.ineuron.ai   Visitor  \n",
       "\n",
       "[5 rows x 23 columns]"
      ]
     },
     "execution_count": 41,
     "metadata": {},
     "output_type": "execute_result"
    }
   ],
   "source": [
    "df.head()"
   ]
  },
  {
   "cell_type": "code",
   "execution_count": 42,
   "metadata": {},
   "outputs": [
    {
     "data": {
      "text/plain": [
       "SL No                          0\n",
       "Channel Type                   0\n",
       "Visitor                        0\n",
       "Visitor Email                314\n",
       "Visitor Url                    0\n",
       "Visitor Contact              314\n",
       "Visitor Platform               0\n",
       "Visitor City                   0\n",
       "Visitor Country                0\n",
       "Notes                      38604\n",
       "Agent                          0\n",
       "Chat Tags                  38552\n",
       "Message Count                  0\n",
       "Date                           0\n",
       "Duration                       0\n",
       "Feedback                       0\n",
       "Audio Clip                     0\n",
       "Call Duration                  0\n",
       "Conversations                  9\n",
       "Pre chat Custom Fields     38617\n",
       "Post Chat Custom Fields    38617\n",
       "Visitor Source                 0\n",
       "Ended By                       0\n",
       "dtype: int64"
      ]
     },
     "execution_count": 42,
     "metadata": {},
     "output_type": "execute_result"
    }
   ],
   "source": [
    "df.isnull().sum()"
   ]
  },
  {
   "cell_type": "code",
   "execution_count": 43,
   "metadata": {},
   "outputs": [
    {
     "data": {
      "text/plain": [
       "Index(['SL No', 'Channel Type', 'Visitor', 'Visitor Email', 'Visitor Url',\n",
       "       'Visitor Contact', 'Visitor Platform', 'Visitor City',\n",
       "       'Visitor Country', 'Notes', 'Agent', 'Chat Tags', 'Message Count',\n",
       "       'Date', 'Duration', 'Feedback', 'Audio Clip', 'Call Duration',\n",
       "       'Conversations', 'Pre chat Custom Fields', 'Post Chat Custom Fields',\n",
       "       'Visitor Source', 'Ended By'],\n",
       "      dtype='object')"
      ]
     },
     "execution_count": 43,
     "metadata": {},
     "output_type": "execute_result"
    }
   ],
   "source": [
    "df.columns"
   ]
  },
  {
   "cell_type": "code",
   "execution_count": 44,
   "metadata": {},
   "outputs": [],
   "source": [
    "df.drop(['SL No', 'Channel Type', 'Visitor', 'Visitor Email', 'Visitor Url',\n",
    "       'Visitor Contact', 'Visitor Platform', 'Visitor City',\n",
    "       'Visitor Country', 'Agent', 'Chat Tags', 'Message Count', 'Date', 'Pre chat Custom Fields', 'Post Chat Custom Fields', 'Notes', 'Visitor Source', 'Ended By'], axis=1, inplace=True)"
   ]
  },
  {
   "cell_type": "code",
   "execution_count": null,
   "metadata": {},
   "outputs": [],
   "source": []
  }
 ],
 "metadata": {
  "kernelspec": {
   "display_name": "Python 3.9.6 64-bit",
   "language": "python",
   "name": "python3"
  },
  "language_info": {
   "codemirror_mode": {
    "name": "ipython",
    "version": 3
   },
   "file_extension": ".py",
   "mimetype": "text/x-python",
   "name": "python",
   "nbconvert_exporter": "python",
   "pygments_lexer": "ipython3",
   "version": "3.9.6"
  },
  "orig_nbformat": 4,
  "vscode": {
   "interpreter": {
    "hash": "b667cebad148e7b094a58ee81f940c685de1dd70a003a9ccdca4a5792431bee5"
   }
  }
 },
 "nbformat": 4,
 "nbformat_minor": 2
}
